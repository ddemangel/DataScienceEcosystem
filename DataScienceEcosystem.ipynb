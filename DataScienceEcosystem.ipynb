{
  "metadata": {
    "kernelspec": {
      "name": "python",
      "display_name": "Python (Pyodide)",
      "language": "python"
    },
    "language_info": {
      "codemirror_mode": {
        "name": "python",
        "version": 3
      },
      "file_extension": ".py",
      "mimetype": "text/x-python",
      "name": "python",
      "nbconvert_exporter": "python",
      "pygments_lexer": "ipython3",
      "version": "3.8"
    }
  },
  "nbformat_minor": 5,
  "nbformat": 4,
  "cells": [
    {
      "id": "c4b93697-b828-4306-bc49-6c3a1f9ace5c",
      "cell_type": "markdown",
      "source": "# Data Science Tools and Ecosystem",
      "metadata": {}
    },
    {
      "id": "0b25f341-02ff-4fc3-94e8-ad6ba7ad2e6f",
      "cell_type": "markdown",
      "source": "In this notebook, Data Science Tools and Ecosystem are summarized.\n",
      "metadata": {}
    },
    {
      "id": "db63326e-1e22-41d1-8a9d-af9eef2a8092",
      "cell_type": "markdown",
      "source": "Some of the popular languages that Data Scientists use are:\n1. Python  \n2. R  \n3. SQL  \n4. Java  \n5. Scala  \n6. Julia\n",
      "metadata": {}
    },
    {
      "id": "cbb209eb-6dc7-4d02-ab1d-32abdd48fc57",
      "cell_type": "markdown",
      "source": "Some of the commonly used libraries used by Data Scientists include:\n1. Pandas  \n2. NumPy  \n3. Matplotlib  \n4. Scikit-learn  \n5. TensorFlow  \n6. Keras\n",
      "metadata": {}
    },
    {
      "id": "2564cff9-7506-4822-91ee-c19dd389aeae",
      "cell_type": "markdown",
      "source": "| Data Science Tools |\n|--------------------|\n| Jupyter Notebook |\n| RStudio |\n| Apache Zeppelin |\n",
      "metadata": {}
    },
    {
      "id": "d3ab9e0f-39f1-420f-ab56-7d74f88b9564",
      "cell_type": "markdown",
      "source": "### Below are a few examples of evaluating arithmetic expressions in Python.\n",
      "metadata": {}
    },
    {
      "id": "8ee282ab-2ec5-46f2-bbe1-da7212239169",
      "cell_type": "code",
      "source": "# This is a simple arithmetic expression to multiply then add integers\n(3 * 4) + 5\n",
      "metadata": {
        "trusted": true
      },
      "outputs": [
        {
          "execution_count": 1,
          "output_type": "execute_result",
          "data": {
            "text/plain": "17"
          },
          "metadata": {}
        }
      ],
      "execution_count": 1
    },
    {
      "id": "da270a00-8c4f-46ad-82f7-9cfcdf07abc1",
      "cell_type": "code",
      "source": "# This will convert 200 minutes to hours by dividing by 60\n200 / 60\n",
      "metadata": {
        "trusted": true
      },
      "outputs": [
        {
          "execution_count": 2,
          "output_type": "execute_result",
          "data": {
            "text/plain": "3.3333333333333335"
          },
          "metadata": {}
        }
      ],
      "execution_count": 2
    },
    {
      "id": "9f823247-b406-4a5a-a107-7ba849fa9354",
      "cell_type": "markdown",
      "source": "**Objectives:**\n- List popular languages for Data Science\n- List commonly used Data Science libraries\n- Create a simple arithmetic expression\n- Convert minutes to hours using Python code\n- Demonstrate use of Markdown in Jupyter Notebooks\n",
      "metadata": {}
    },
    {
      "id": "6c661471-1e61-46af-b77b-accd6732944c",
      "cell_type": "markdown",
      "source": "## Author\nDamien Demangel\n",
      "metadata": {}
    },
    {
      "id": "69a4c675-2cc7-4a19-a7af-9963cab45a70",
      "cell_type": "code",
      "source": "",
      "metadata": {
        "trusted": true
      },
      "outputs": [],
      "execution_count": null
    }
  ]
}